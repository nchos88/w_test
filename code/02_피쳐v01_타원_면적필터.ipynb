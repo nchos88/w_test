{
 "cells": [
  {
   "cell_type": "markdown",
   "metadata": {},
   "source": [
    "### 버전1\n",
    "1) cv2.normalize , blur , 모폴로지 \n",
    "2) 컨투어\n",
    "3) 면적으로 필터링\n",
    "4) 타원 특징으로 긴놈만 찾기 \n",
    "\n",
    "https://copycoding.tistory.com/147\n",
    "\n",
    "각 샘플별로    \n",
    "객체수 \n",
    "평균면적\n"
   ]
  },
  {
   "cell_type": "code",
   "execution_count": 1,
   "metadata": {},
   "outputs": [],
   "source": [
    "import cv2\n",
    "from matplotlib import pyplot as plt\n",
    "import numpy as np\n",
    "from glob import glob\n",
    "import json\n",
    "import pandas as pd\n",
    "import plotly.express as px\n",
    "import seaborn as sns\n",
    "from sklearn import metrics\n",
    "%matplotlib inline"
   ]
  },
  {
   "cell_type": "code",
   "execution_count": 2,
   "metadata": {},
   "outputs": [],
   "source": [
    "img_paths = []\n",
    "img_groups = []\n",
    "coor_paths = []\n",
    "\n",
    "sub_list = sorted([sub for sub in glob(\"../data/dataset/train/*/\")])\n",
    "\n",
    "for sub in sub_list:\n",
    "    tmp_img_path = []\n",
    "    tmp_json_path = []\n",
    "    \n",
    "    for img_path in glob(sub + '*.jpg'):\n",
    "        tmp_img_path.append(img_path)\n",
    "        img_groups.append(sub.split('/')[4])\n",
    "    for coor_path in glob(sub + '*.json'):\n",
    "        tmp_json_path.append(coor_path)\n",
    "    img_paths += sorted(tmp_img_path)\n",
    "    coor_paths += sorted(tmp_json_path)"
   ]
  },
  {
   "cell_type": "code",
   "execution_count": null,
   "metadata": {},
   "outputs": [],
   "source": []
  },
  {
   "cell_type": "code",
   "execution_count": null,
   "metadata": {},
   "outputs": [],
   "source": []
  },
  {
   "cell_type": "code",
   "execution_count": null,
   "metadata": {},
   "outputs": [],
   "source": []
  },
  {
   "cell_type": "code",
   "execution_count": null,
   "metadata": {},
   "outputs": [],
   "source": []
  }
 ],
 "metadata": {
  "kernelspec": {
   "display_name": "gb2",
   "language": "python",
   "name": "gb2"
  },
  "language_info": {
   "codemirror_mode": {
    "name": "ipython",
    "version": 3
   },
   "file_extension": ".py",
   "mimetype": "text/x-python",
   "name": "python",
   "nbconvert_exporter": "python",
   "pygments_lexer": "ipython3",
   "version": "3.8.5"
  }
 },
 "nbformat": 4,
 "nbformat_minor": 4
}
