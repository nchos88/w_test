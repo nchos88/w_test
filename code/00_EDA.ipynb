{
 "cells": [
  {
   "cell_type": "code",
   "execution_count": 55,
   "metadata": {},
   "outputs": [],
   "source": [
    "import cv2\n",
    "from matplotlib import pyplot as plt\n",
    "import numpy as np\n",
    "from glob import glob\n",
    "import json\n",
    "import pandas as pd\n",
    "import plotly.express as px\n",
    "import seaborn as sns\n",
    "from sklearn import metrics\n",
    "%matplotlib inline"
   ]
  },
  {
   "cell_type": "code",
   "execution_count": 56,
   "metadata": {},
   "outputs": [],
   "source": [
    "def showimage(img , tick = False , title = None):\n",
    "    plt.figure( figsize = (12,12))\n",
    "    plt.imshow(img , cmap='gray')\n",
    "    if not tick:\n",
    "        plt.xticks([]) , plt.yticks([])\n",
    "    if title: \n",
    "        plt.title(title)\n",
    "    plt.show()"
   ]
  },
  {
   "cell_type": "markdown",
   "metadata": {},
   "source": [
    "---\n",
    "## 전체적인 정보 탐색"
   ]
  },
  {
   "cell_type": "code",
   "execution_count": 76,
   "metadata": {},
   "outputs": [],
   "source": [
    "''' 오브젝트 별 수 '''\n",
    "\n",
    "''' 트레이닝 데이터 '''\n",
    "img_paths = []\n",
    "img_groups = []\n",
    "coor_paths = []\n",
    "\n",
    "sub_list = sorted([sub for sub in glob(\"../data/dataset/train/*/\")])\n",
    "\n",
    "for sub in sub_list:\n",
    "    tmp_img_path = []\n",
    "    tmp_json_path = []\n",
    "    \n",
    "    for img_path in glob(sub + '*.jpg'):\n",
    "        tmp_img_path.append(img_path)\n",
    "        img_groups.append(sub.split('/')[4])\n",
    "    for coor_path in glob(sub + '*.json'):\n",
    "        tmp_json_path.append(coor_path)\n",
    "    img_paths += sorted(tmp_img_path)\n",
    "    coor_paths += sorted(tmp_json_path)\n",
    "\n",
    "df_ginfo = pd.DataFrame()\n",
    "df_ginfo['img_paths'] = img_paths\n",
    "df_ginfo['img_groups'] = img_groups\n",
    "df_ginfo['coor_paths'] = coor_paths"
   ]
  },
  {
   "cell_type": "code",
   "execution_count": 77,
   "metadata": {},
   "outputs": [
    {
     "name": "stdout",
     "output_type": "stream",
     "text": [
      "92.24193548387096\n"
     ]
    },
    {
     "name": "stderr",
     "output_type": "stream",
     "text": [
      "/ssd/jaewoo/venv/gb2/lib/python3.8/site-packages/seaborn/_decorators.py:36: FutureWarning: Pass the following variables as keyword args: x, y. From version 0.12, the only valid positional argument will be `data`, and passing other arguments without an explicit keyword will result in an error or misinterpretation.\n",
      "  warnings.warn(\n"
     ]
    },
    {
     "data": {
      "text/plain": [
       "<AxesSubplot:>"
      ]
     },
     "execution_count": 77,
     "metadata": {},
     "output_type": "execute_result"
    },
    {
     "data": {
      "image/png": "[encoded data removed]",
      "text/plain": [
       "<Figure size 432x288 with 1 Axes>"
      ]
     },
     "metadata": {
      "needs_background": "light"
     },
     "output_type": "display_data"
    }
   ],
   "source": [
    "''' 그룹별 수 : Train '''\n",
    "df_grp = df_ginfo.groupby( by = 'img_groups')\n",
    "y = list(df_grp.size()) \n",
    "x = list(range(len(df_grp.size())))\n",
    "print(np.mean(y))\n",
    "sns.barplot(y,x)"
   ]
  },
  {
   "cell_type": "code",
   "execution_count": 71,
   "metadata": {},
   "outputs": [],
   "source": [
    "''' 테스트 데이터 '''\n",
    "img_paths = []\n",
    "img_groups = []\n",
    "coor_paths = []\n",
    "\n",
    "sub_list = sorted([sub for sub in glob(\"../data/dataset/test/*/\")])\n",
    "\n",
    "for sub in sub_list:\n",
    "    tmp_img_path = []\n",
    "    tmp_json_path = []\n",
    "    \n",
    "    for img_path in glob(sub + '*.jpg'):\n",
    "        tmp_img_path.append(img_path)\n",
    "        img_groups.append(sub.split('/')[4])\n",
    "    for coor_path in glob(sub + '*.json'):\n",
    "        tmp_json_path.append(coor_path)\n",
    "    img_paths += sorted(tmp_img_path)\n",
    "    coor_paths += sorted(tmp_json_path)\n",
    "\n",
    "df_ginfo = pd.DataFrame()\n",
    "df_ginfo['img_paths'] = img_paths\n",
    "df_ginfo['img_groups'] = img_groups\n",
    "df_ginfo['coor_paths'] = coor_paths"
   ]
  },
  {
   "cell_type": "code",
   "execution_count": 75,
   "metadata": {},
   "outputs": [
    {
     "name": "stdout",
     "output_type": "stream",
     "text": [
      "86.27058823529411\n"
     ]
    },
    {
     "name": "stderr",
     "output_type": "stream",
     "text": [
      "/ssd/jaewoo/venv/gb2/lib/python3.8/site-packages/seaborn/_decorators.py:36: FutureWarning: Pass the following variables as keyword args: x, y. From version 0.12, the only valid positional argument will be `data`, and passing other arguments without an explicit keyword will result in an error or misinterpretation.\n",
      "  warnings.warn(\n"
     ]
    },
    {
     "data": {
      "text/plain": [
       "<AxesSubplot:>"
      ]
     },
     "execution_count": 75,
     "metadata": {},
     "output_type": "execute_result"
    },
    {
     "data": {
      "image/png": "[encoded data removed]",
      "text/plain": [
       "<Figure size 432x288 with 1 Axes>"
      ]
     },
     "metadata": {
      "needs_background": "light"
     },
     "output_type": "display_data"
    }
   ],
   "source": [
    "''' 그룹별 수 : Test '''\n",
    "df_grp = df_ginfo.groupby( by = 'img_groups')\n",
    "y = list(df_grp.size()) \n",
    "x = list(range(len(df_grp.size())))\n",
    "print(np.mean(y))\n",
    "sns.barplot(y,x)\n"
   ]
  },
  {
   "cell_type": "code",
   "execution_count": 83,
   "metadata": {},
   "outputs": [
    {
     "name": "stdout",
     "output_type": "stream",
     "text": [
      "('09xhTGOWvG', 102)\n",
      "('1IfHWGbtMf', 102)\n",
      "('2FINMdB8FA', 77)\n",
      "('2ZUn5NjsOy', 77)\n",
      "('2io6VOZw5l', 102)\n",
      "('35Nnt2j9IH', 13)\n",
      "('3Qx3IAKZko', 52)\n",
      "('3zdESgH6pI', 102)\n",
      "('4GY08vDuPn', 102)\n",
      "('5MFsHl7Uei', 53)\n",
      "('5ofA75UyiC', 102)\n",
      "('658R6rCHZt', 102)\n",
      "('66nVberACp', 102)\n",
      "('69Z7zrpEFi', 102)\n",
      "('6Fq5axtjRN', 101)\n",
      "('6T2bwGfcCv', 102)\n",
      "('6hVVXk07zi', 103)\n",
      "('6mMkgGYau5', 102)\n",
      "('78QitWQ2V6', 102)\n",
      "('7n1AyOHFRu', 86)\n",
      "('8HGNWkz2YS', 102)\n",
      "('8iZZyHYHXr', 43)\n",
      "('9IObHxTaZh', 102)\n",
      "('9QtvnQzKlI', 102)\n",
      "('9Y1hPCa3yT', 102)\n",
      "('9cbMOeEeUt', 68)\n",
      "('A7A6jpVkOy', 67)\n",
      "('B18AIYTimz', 102)\n",
      "('B7GiPnXj0S', 102)\n",
      "('C3J27XDCG2', 102)\n",
      "('C84FL8SfWo', 103)\n",
      "('CHJs1UJOkH', 102)\n",
      "('D5utuFj7XX', 102)\n",
      "('DcjHyhKzlv', 98)\n",
      "('Duoz97U5Hp', 102)\n",
      "('EhG5tYGN2w', 103)\n",
      "('EwA5N6SKWA', 102)\n",
      "('G16JqtQy92', 102)\n",
      "('G9qpVTzqA0', 102)\n",
      "('GNqTmSH4Bb', 103)\n",
      "('HiqpK7vdPY', 102)\n",
      "('ITclorXwIS', 102)\n",
      "('IfvfrVg5uf', 102)\n",
      "('JAXrF6bnZ3', 102)\n",
      "('JNG5KEjmlh', 102)\n",
      "('JX9fE3ozdn', 94)\n",
      "('KIIJeJ6qk6', 102)\n",
      "('KKF0RDt0Xa', 102)\n",
      "('KMmGLvZWqr', 102)\n",
      "('KbhNgVpqCz', 102)\n",
      "('LKllfWD42s', 102)\n",
      "('LmlZGEONYl', 48)\n",
      "('MbXDuCL1mH', 102)\n",
      "('Na1Hedcm4p', 52)\n",
      "('NcgoIreWf6', 102)\n",
      "('ORZbgmKRw6', 63)\n",
      "('RkJpOxEEwn', 96)\n",
      "('RkunyBHsr4', 102)\n",
      "('T11NCue1cr', 102)\n",
      "('TEpsKhDXa2', 102)\n",
      "('Te8r0khCEr', 102)\n",
      "('UWSus4jowQ', 102)\n",
      "('Uvy7VSLDCD', 102)\n",
      "('VqyZjxjP1M', 85)\n",
      "('W9cy78kyEk', 102)\n",
      "('XpLcOkAWRy', 102)\n",
      "('YdQ7p5a3E5', 102)\n",
      "('ZUeTN6cAW0', 40)\n",
      "('ZboHdIkKs9', 75)\n",
      "('a4wO5Ndor8', 102)\n",
      "('aMeffOhq4A', 33)\n",
      "('bOPjgV0PBp', 102)\n",
      "('c2mlADxVxz', 77)\n",
      "('cIAHFk819t', 102)\n",
      "('cMz9CPVNPk', 103)\n",
      "('ckhBAXev60', 102)\n",
      "('dDZFlRJmCG', 103)\n",
      "('dclsxHKifx', 102)\n",
      "('eZ5oBUEqWp', 102)\n",
      "('efnLOpaMxx', 85)\n",
      "('f9VLI2GtbY', 102)\n",
      "('fZ1T436O8z', 40)\n",
      "('fqmmyUhvt8', 102)\n",
      "('fx1xbxRzLy', 102)\n",
      "('gCtjfIZ4SO', 102)\n",
      "('gU30ZP7Thn', 78)\n",
      "('gjNgiROTll', 102)\n",
      "('gmANb7qiSX', 103)\n",
      "('hFfSke7IDA', 102)\n",
      "('i5CvQUSHL8', 102)\n",
      "('i8RDeWguzD', 102)\n",
      "('iEjH5UH1RS', 91)\n",
      "('jKTm7HTT17', 102)\n",
      "('kXujq63ZHi', 102)\n",
      "('lan062j0if', 69)\n",
      "('mK8bOQmXfi', 102)\n",
      "('mUXiAPyhzA', 102)\n",
      "('mu12w5EblO', 102)\n",
      "('nar3ZLt4bn', 102)\n",
      "('nl1ks7RgLd', 102)\n",
      "('oEJP2NNern', 103)\n",
      "('oOsFaQfDPr', 42)\n",
      "('p5yftIY7uq', 102)\n",
      "('pEKASvvf73', 102)\n",
      "('r5vJIGA9HK', 102)\n",
      "('rKEUOvC0yf', 25)\n",
      "('rKFmAIhGaM', 102)\n",
      "('rWpm8pGP6m', 102)\n",
      "('sHzMtxHsEP', 66)\n",
      "('tQz8p4e6U9', 96)\n",
      "('uMu57mnXm4', 103)\n",
      "('uieeCIxVc5', 102)\n",
      "('usJWV06lBP', 11)\n",
      "('vB50756EHu', 62)\n",
      "('vvFVi13eZh', 102)\n",
      "('wrNTHg4ESD', 102)\n",
      "('xCYpTAM3kA', 86)\n",
      "('xLgD4ufIfB', 102)\n",
      "('xrD4hCUip5', 102)\n",
      "('y4EMfAdggc', 102)\n",
      "('yNLOZWbkmA', 102)\n",
      "('ybIcH6zIZK', 102)\n",
      "('ylOjt6o0Np', 102)\n",
      "('znUleZvtEg', 100)\n"
     ]
    }
   ],
   "source": [
    "for row in df_grp.size().iteritems():\n",
    "    print(row)"
   ]
  },
  {
   "cell_type": "code",
   "execution_count": null,
   "metadata": {},
   "outputs": [],
   "source": []
  },
  {
   "cell_type": "markdown",
   "metadata": {},
   "source": [
    "---\n",
    "## w 분포"
   ]
  },
  {
   "cell_type": "code",
   "execution_count": null,
   "metadata": {},
   "outputs": [],
   "source": []
  },
  {
   "cell_type": "code",
   "execution_count": null,
   "metadata": {},
   "outputs": [],
   "source": []
  },
  {
   "cell_type": "code",
   "execution_count": null,
   "metadata": {},
   "outputs": [],
   "source": []
  },
  {
   "cell_type": "code",
   "execution_count": null,
   "metadata": {},
   "outputs": [],
   "source": []
  },
  {
   "cell_type": "code",
   "execution_count": 30,
   "metadata": {},
   "outputs": [],
   "source": [
    "img = cv2.imread('../data/dataset/train/09xhTGOWvG/00000.jpg' , cv2.IMREAD_GRAYSCALE)\n",
    "img_slice = img[:,300:img.shape[1]-300]"
   ]
  },
  {
   "cell_type": "code",
   "execution_count": 21,
   "metadata": {},
   "outputs": [],
   "source": [
    "_ , img = cv2.threshold(img , 0 , 255 , cv2.THRESH_BINARY+cv2.THRESH_OTSU)"
   ]
  },
  {
   "cell_type": "code",
   "execution_count": null,
   "metadata": {},
   "outputs": [],
   "source": [
    "showimage(img)"
   ]
  },
  {
   "cell_type": "code",
   "execution_count": null,
   "metadata": {},
   "outputs": [],
   "source": [
    "showimage(img)\n",
    "\n",
    "cv2.imshow(img)"
   ]
  },
  {
   "cell_type": "code",
   "execution_count": 26,
   "metadata": {},
   "outputs": [],
   "source": [
    "contours, hierachy = cv2.findContours(img, cv2.RETR_LIST,cv2.CHAIN_APPROX_SIMPLE)"
   ]
  },
  {
   "cell_type": "code",
   "execution_count": 32,
   "metadata": {},
   "outputs": [
    {
     "name": "stdout",
     "output_type": "stream",
     "text": [
      "0.0\n",
      "0.0\n",
      "36.0\n",
      "109.0\n",
      "148.0\n",
      "166.5\n",
      "0.0\n",
      "344.0\n",
      "732.5\n",
      "2.0\n",
      "2.0\n",
      "5.5\n",
      "2.0\n",
      "345.5\n",
      "9.5\n",
      "128.0\n",
      "488.5\n",
      "0.0\n",
      "0.0\n",
      "22.5\n",
      "226.0\n"
     ]
    }
   ],
   "source": [
    "''' 컨투어별 크기 '''\n",
    "for i, cnt in enumerate(contours):\n",
    "    print(cv2.contourArea(cnt))\n",
    "    \n",
    "    if i == 20:\n",
    "        break"
   ]
  },
  {
   "cell_type": "code",
   "execution_count": null,
   "metadata": {},
   "outputs": [],
   "source": [
    "''' 컨투어 그리기 '''\n",
    "img_color = cv2.imread('../data/dataset/train/09xhTGOWvG/00000.jpg' )\n",
    "img_slice_color = img_color[:,300:img_color.shape[1]-300]\n",
    "\n",
    "img_slice_gray = cv2.cvtColor(img_slice_color, cv2.COLOR_BGR2GRAY)\n",
    "_ , img_thres = cv2.threshold(img_slice_gray , 0 , 255 , cv2.THRESH_BINARY+cv2.THRESH_OTSU)\n",
    "contours, hierachy = cv2.findContours(img_thres, cv2.RETR_LIST,cv2.CHAIN_APPROX_SIMPLE)\n",
    "img_con_draw = cv2.drawContours(img_slice_color, contours, -1, (0,255,0), 4)\n",
    "showimage(img_con_draw)    \n",
    "    \n"
   ]
  },
  {
   "cell_type": "code",
   "execution_count": null,
   "metadata": {},
   "outputs": [],
   "source": [
    "''' 주어진 폴리곤들의 '''"
   ]
  },
  {
   "cell_type": "code",
   "execution_count": null,
   "metadata": {},
   "outputs": [],
   "source": [
    "''' 각 컨투어별 '''"
   ]
  }
 ],
 "metadata": {
  "kernelspec": {
   "display_name": "gb2",
   "language": "python",
   "name": "gb2"
  },
  "language_info": {
   "codemirror_mode": {
    "name": "ipython",
    "version": 3
   },
   "file_extension": ".py",
   "mimetype": "text/x-python",
   "name": "python",
   "nbconvert_exporter": "python",
   "pygments_lexer": "ipython3",
   "version": "3.8.5"
  }
 },
 "nbformat": 4,
 "nbformat_minor": 4
}
