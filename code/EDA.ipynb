{
 "cells": [
  {
   "cell_type": "code",
   "execution_count": 6,
   "metadata": {},
   "outputs": [],
   "source": [
    "import cv2\n",
    "from matplotlib import pyplot as plt\n",
    "import numpy as np\n",
    "%matplotlib inline"
   ]
  },
  {
   "cell_type": "code",
   "execution_count": 7,
   "metadata": {},
   "outputs": [],
   "source": [
    "def showimage(img , tick = False , title = None):\n",
    "    plt.figure( figsize = (12,12))\n",
    "    plt.imshow(img , cmap='gray')\n",
    "    if not tick:\n",
    "        plt.xticks([]) , plt.yticks([])\n",
    "    if title: \n",
    "        plt.title(title)\n",
    "    plt.show()"
   ]
  },
  {
   "cell_type": "code",
   "execution_count": 30,
   "metadata": {},
   "outputs": [],
   "source": [
    "img = cv2.imread('../data/dataset/train/09xhTGOWvG/00000.jpg' , cv2.IMREAD_GRAYSCALE)\n",
    "img_slice = img[:,300:img.shape[1]-300]"
   ]
  },
  {
   "cell_type": "code",
   "execution_count": 21,
   "metadata": {},
   "outputs": [],
   "source": [
    "_ , img = cv2.threshold(img , 0 , 255 , cv2.THRESH_BINARY+cv2.THRESH_OTSU)"
   ]
  },
  {
   "cell_type": "code",
   "execution_count": null,
   "metadata": {},
   "outputs": [],
   "source": [
    "showimage(img)"
   ]
  },
  {
   "cell_type": "code",
   "execution_count": null,
   "metadata": {},
   "outputs": [],
   "source": [
    "showimage(img)\n",
    "\n",
    "cv2.imshow(img)"
   ]
  },
  {
   "cell_type": "code",
   "execution_count": 26,
   "metadata": {},
   "outputs": [],
   "source": [
    "contours, hierachy = cv2.findContours(img, cv2.RETR_LIST,cv2.CHAIN_APPROX_SIMPLE)"
   ]
  },
  {
   "cell_type": "code",
   "execution_count": 32,
   "metadata": {},
   "outputs": [
    {
     "name": "stdout",
     "output_type": "stream",
     "text": [
      "0.0\n",
      "0.0\n",
      "36.0\n",
      "109.0\n",
      "148.0\n",
      "166.5\n",
      "0.0\n",
      "344.0\n",
      "732.5\n",
      "2.0\n",
      "2.0\n",
      "5.5\n",
      "2.0\n",
      "345.5\n",
      "9.5\n",
      "128.0\n",
      "488.5\n",
      "0.0\n",
      "0.0\n",
      "22.5\n",
      "226.0\n"
     ]
    }
   ],
   "source": [
    "''' 컨투어별 크기 '''\n",
    "for i, cnt in enumerate(contours):\n",
    "    print(cv2.contourArea(cnt))\n",
    "    \n",
    "    if i == 20:\n",
    "        break"
   ]
  },
  {
   "cell_type": "code",
   "execution_count": null,
   "metadata": {},
   "outputs": [],
   "source": [
    "''' 컨투어 그리기 '''\n",
    "img_color = cv2.imread('../data/dataset/train/09xhTGOWvG/00000.jpg' )\n",
    "img_slice_color = img_color[:,300:img_color.shape[1]-300]\n",
    "\n",
    "img_slice_gray = cv2.cvtColor(img_slice_color, cv2.COLOR_BGR2GRAY)\n",
    "_ , img_thres = cv2.threshold(img_slice_gray , 0 , 255 , cv2.THRESH_BINARY+cv2.THRESH_OTSU)\n",
    "contours, hierachy = cv2.findContours(img_thres, cv2.RETR_LIST,cv2.CHAIN_APPROX_SIMPLE)\n",
    "img_con_draw = cv2.drawContours(img_slice_color, contours, -1, (0,255,0), 4)\n",
    "showimage(img_con_draw)    \n",
    "    \n"
   ]
  },
  {
   "cell_type": "code",
   "execution_count": null,
   "metadata": {},
   "outputs": [],
   "source": [
    "''' 주어진 폴리곤들의 '''"
   ]
  },
  {
   "cell_type": "code",
   "execution_count": null,
   "metadata": {},
   "outputs": [],
   "source": [
    "''' 각 컨투어별 '''"
   ]
  }
 ],
 "metadata": {
  "kernelspec": {
   "display_name": "gb2",
   "language": "python",
   "name": "gb2"
  },
  "language_info": {
   "codemirror_mode": {
    "name": "ipython",
    "version": 3
   },
   "file_extension": ".py",
   "mimetype": "text/x-python",
   "name": "python",
   "nbconvert_exporter": "python",
   "pygments_lexer": "ipython3",
   "version": "3.8.5"
  }
 },
 "nbformat": 4,
 "nbformat_minor": 4
}
